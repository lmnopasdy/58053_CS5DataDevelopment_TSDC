{
  "nbformat": 4,
  "nbformat_minor": 0,
  "metadata": {
    "colab": {
      "name": "problemset1.ipynb",
      "provenance": [],
      "collapsed_sections": [],
      "include_colab_link": true
    },
    "kernelspec": {
      "name": "python3",
      "display_name": "Python 3"
    },
    "language_info": {
      "name": "python"
    }
  },
  "cells": [
    {
      "cell_type": "markdown",
      "metadata": {
        "id": "view-in-github",
        "colab_type": "text"
      },
      "source": [
        "<a href=\"https://colab.research.google.com/github/lmnopasdy/58053_CS5DataDevelopment_TSDC/blob/main/58089_PrelimPS1_Sunny.ipynb\" target=\"_parent\"><img src=\"https://colab.research.google.com/assets/colab-badge.svg\" alt=\"Open In Colab\"/></a>"
      ]
    },
    {
      "cell_type": "markdown",
      "metadata": {
        "id": "fte_zsqVdp8R"
      },
      "source": [
        "# Topic02a : Prelim Problem Set I\n",
        "### Dy, Sunny A.\n",
        "### 58089"
      ]
    },
    {
      "cell_type": "code",
      "metadata": {
        "id": "XWw_dKrjtERc"
      },
      "source": [
        "import numpy as np\n",
        "import pandas as pd\n",
        "import math"
      ],
      "execution_count": 1,
      "outputs": []
    },
    {
      "cell_type": "markdown",
      "metadata": {
        "id": "JpcY5oJ5eFxA"
      },
      "source": [
        "## Case 1\n"
      ]
    },
    {
      "cell_type": "markdown",
      "metadata": {
        "id": "3CbIEqiCvjN6"
      },
      "source": [
        "**Problem 1.a. System of Linear Equations**\n",
        ">**Dot Product Form**\n",
        "$$\n",
        "\\begin{bmatrix}0&-1&1\\\\\\frac{1}{2}&-2&0\\\\-1&0&\\frac{3}{7}\\end{bmatrix} \\cdot \\begin{bmatrix}xyz\\end{bmatrix} = \\begin{bmatrix}\\frac{1}{32}\\\\0\\\\\\frac{4}{5}\\end{bmatrix}\n",
        "$$"
      ]
    },
    {
      "cell_type": "code",
      "metadata": {
        "colab": {
          "base_uri": "https://localhost:8080/"
        },
        "id": "ycNUwehotWD_",
        "outputId": "94e975df-8595-446f-8134-29f095a2e840"
      },
      "source": [
        "X = np.array([\n",
        "    [0,-1,1],\n",
        "    [1/2,-2,0],\n",
        "    [-1,0,3/7]\n",
        "], dtype=float)\n",
        "Y = np.array([\n",
        "    [1/32],\n",
        "    [0],\n",
        "    [4/5]\n",
        "],dtype=float)\n",
        "print(X)\n",
        "print(X.shape)\n",
        "print(Y)\n",
        "print(Y.shape)"
      ],
      "execution_count": null,
      "outputs": [
        {
          "output_type": "stream",
          "name": "stdout",
          "text": [
            "[[ 0.         -1.          1.        ]\n",
            " [ 0.5        -2.          0.        ]\n",
            " [-1.          0.          0.42857143]]\n",
            "(3, 3)\n",
            "[[0.03125]\n",
            " [0.     ]\n",
            " [0.8    ]]\n",
            "(3, 1)\n"
          ]
        }
      ]
    },
    {
      "cell_type": "code",
      "metadata": {
        "colab": {
          "base_uri": "https://localhost:8080/"
        },
        "id": "QgaMAb5wWmAh",
        "outputId": "ee294aa6-fa67-4f64-f3a7-96af7d370f4f"
      },
      "source": [
        "X_inv = np.linalg.inv(X)\n",
        "X_inv"
      ],
      "execution_count": null,
      "outputs": [
        {
          "output_type": "execute_result",
          "data": {
            "text/plain": [
              "array([[ 0.48, -0.24, -1.12],\n",
              "       [ 0.12, -0.56, -0.28],\n",
              "       [ 1.12, -0.56, -0.28]])"
            ]
          },
          "metadata": {},
          "execution_count": 11
        }
      ]
    },
    {
      "cell_type": "code",
      "metadata": {
        "colab": {
          "base_uri": "https://localhost:8080/"
        },
        "id": "ovdUF5C0Wu5u",
        "outputId": "eb9193a9-06ac-44dc-c0a5-8eb7c1b0acca"
      },
      "source": [
        "r = X_inv @ Y\n",
        "r"
      ],
      "execution_count": null,
      "outputs": [
        {
          "output_type": "execute_result",
          "data": {
            "text/plain": [
              "array([[-0.881  ],\n",
              "       [-0.22025],\n",
              "       [-0.189  ]])"
            ]
          },
          "metadata": {},
          "execution_count": 12
        }
      ]
    },
    {
      "cell_type": "code",
      "metadata": {
        "colab": {
          "base_uri": "https://localhost:8080/"
        },
        "id": "UeF9l0l-Wz75",
        "outputId": "0c8828d0-3133-48cd-a5e1-3e5072a1620a"
      },
      "source": [
        "ans=X @ r\n",
        "np.allclose(ans, Y)"
      ],
      "execution_count": null,
      "outputs": [
        {
          "output_type": "execute_result",
          "data": {
            "text/plain": [
              "True"
            ]
          },
          "metadata": {},
          "execution_count": 13
        }
      ]
    },
    {
      "cell_type": "markdown",
      "metadata": {
        "id": "fMJRswrCzMvT"
      },
      "source": [
        "Vector v = $$\\begin{bmatrix}-0.881\\\\-0.22025\\\\-0.189\\end{bmatrix}$$"
      ]
    },
    {
      "cell_type": "markdown",
      "metadata": {
        "id": "Zxo78UCI2tzj"
      },
      "source": [
        "**Problem 1.b. Linear Combination**\n",
        ">>**Vectorized Form**\n",
        "$$\n",
        "\\begin{bmatrix}cos\\hat{i}&sin\\hat{j}&-csc\\hat{k}\\end{bmatrix}\\cdot\\begin{bmatrix}\\theta\\\\\\theta\\\\2\\theta\\end{bmatrix}\n",
        "$$"
      ]
    },
    {
      "cell_type": "markdown",
      "metadata": {
        "id": "CDLFi8s22zlN"
      },
      "source": [
        "**Problem 1.c. Scenario**"
      ]
    },
    {
      "cell_type": "code",
      "metadata": {
        "colab": {
          "base_uri": "https://localhost:8080/"
        },
        "id": "vK1g1Ojr2rcA",
        "outputId": "f24db90e-c2cb-46be-b04d-3780875c1f49"
      },
      "source": [
        "attendees = np.array([200,45,15,40]) \n",
        "percom = attendees/attendees.sum(axis=0)*100\n",
        "print(percom)"
      ],
      "execution_count": null,
      "outputs": [
        {
          "output_type": "stream",
          "name": "stdout",
          "text": [
            "[66.66666667 15.          5.         13.33333333]\n"
          ]
        }
      ]
    },
    {
      "cell_type": "markdown",
      "metadata": {
        "id": "R3vyen4fteys"
      },
      "source": [
        "$$\n",
        "\\begin{bmatrix}AttendeeType&Quantity&Percentage\\\\StudentAttendees&200&66.67\\%\\\\Professionals&45&15\\%\\\\MembersOfThePanel&15&5\\%\\\\OrganizingCommittee&40&13.33\\%\\end{bmatrix}\n",
        "$$"
      ]
    },
    {
      "cell_type": "markdown",
      "metadata": {
        "id": "Uvb1MGs9QNVt"
      },
      "source": [
        "# Case 2\n"
      ]
    },
    {
      "cell_type": "markdown",
      "metadata": {
        "id": "b3Oeme3fhSVN"
      },
      "source": [
        "**Problem 2.a: Vector Magnitude**\n",
        ">The magnitude of a vector can be computed using the formula:\\\n",
        "$$||v||=\\sqrt{a_0^2 + a_1^2 + a_n^2}$$\n",
        "The magnitude of a vector can be determined if its endpoint is located at origin (0,0) which is usually represented as:\\\n",
        "$$|\\vec{v}|=\\sqrt{x^2+y^2}$$\\\n",
        "The starting point of a vector is located at the certain point $(x_1,y_1)$ and its ending point at $(x_2,y_2)$, this can also be represented with this formula: $$|\\vec{v}|=\\sqrt{(x_2-x_1)^2+(y_2-y_1)^2}$$\n"
      ]
    },
    {
      "cell_type": "markdown",
      "metadata": {
        "id": "khfOxZxSnoqw"
      },
      "source": [
        "**Problem 2.b: Angle Between Vectors**\n",
        ">The two vectors are perpendicular when their dot product is equal to zero\n",
        "\n",
        ">This means that if the $\\theta = \\frac{\\pi}{2}$ \n",
        "\n",
        "$$u\\cdot v = ||u||\\cdot||v||\\cos(\\frac{\\pi}{2})$$\n",
        ">and it will become \n",
        "$$u\\cdot v = 0$$"
      ]
    },
    {
      "cell_type": "markdown",
      "metadata": {
        "id": "_cH8JpkBj1xS"
      },
      "source": [
        "# Case 3"
      ]
    },
    {
      "cell_type": "markdown",
      "metadata": {
        "id": "kt5Emvr9DQDo"
      },
      "source": [
        "**Problem 3.a: Matrix Equivalences**\n",
        "\n",
        "We can identify if $X \\cdot \\theta$ and $\\theta^T\\cdot X$ are equal by getting the  matrix product of $X \\cdot \\theta$\n",
        "\n",
        "$$\n",
        "X \\theta = \\begin{bmatrix} \n",
        "— (x^{(1)})^T— \\\\ \n",
        "— (x^{(2)})^T— \\\\\n",
        "\\vdots \\\\\n",
        "— (x^{(m)})^T— \\\\\n",
        "\\end{bmatrix}\n",
        "\\cdot\\begin{bmatrix} \n",
        "\\theta^{(1)} \\\\ \n",
        "\\theta^{(2)} \\\\\n",
        "\\vdots \\\\\n",
        "\\theta^{(m)} \\\\\n",
        "\\end{bmatrix} \n",
        "$$\n",
        "\n",
        "By computing the matrix product $X\\theta$ we have:\n",
        "\n",
        "$$X\\theta = \n",
        "\\begin{bmatrix} \n",
        "— (x^{(1)})^T\\theta— \\\\ \n",
        "— (x^{(2)})^T\\theta— \\\\\n",
        "\\vdots \\\\\n",
        "— (x^{(m)})^T\\theta— \\\\ \n",
        "\\end{bmatrix} = \n",
        "\\begin{bmatrix} \n",
        "— \\theta^T(x^{(1)})— \\\\ \n",
        "— \\theta^T(x^{(2)})— \\\\\n",
        "\\vdots \\\\\n",
        "— \\theta^T(x^{(m)})— \\\\ \n",
        "\\end{bmatrix}\n",
        "$$\n",
        "The product of $X\\theta$ is also equal to its transpose which is $\\theta^TX$"
      ]
    },
    {
      "cell_type": "markdown",
      "metadata": {
        "id": "bqDMN8GxplIq"
      },
      "source": [
        "**Problem 3.b: Matrix Shapes**\n",
        "$$X = \\begin{bmatrix} \n",
        "a^1&a^2&a^3&a^4&a^5 \\\\ \n",
        "a^6&a^7&a^8&a^9&a^{10} \\\\\n",
        "\\vdots&\\vdots&\\vdots&\\vdots&\\vdots \\\\\n",
        "a^{296}&a^{297}&a^{298}&a^{299}&a^{300} \\\\\n",
        "\\end{bmatrix} \\text{, } \n",
        "\\theta = \\begin{bmatrix} \n",
        "\\theta^{(1)} \\\\ \n",
        "\\theta^{(2)} \\\\\n",
        "\\vdots \\\\\n",
        "\\theta^{(m)} \\\\\n",
        "\\end{bmatrix}$$\n",
        ">The logistic regression hypothesis can be defined as:\n",
        "$$h_\\theta(x) = g(\\theta^Tx),$$\\\n",
        "Function $g$ is the sigmoid function and can be defined as:\n",
        "$$g(z) = \\frac{1}{1+e^{-z}}$$\n",
        ">The shape of $h_\\theta(x)$ would be likely the same as the shape of the X that has (300,5).\n",
        "$$h_\\theta(x) = \\begin{bmatrix} \n",
        "\\theta^1(a)&\\theta^2(a)&\\theta^3(a)&\\theta^4(a)&\\theta^5(a) \\\\ \n",
        "\\theta^6(a)&\\theta^7(a)&\\theta^8(a)&\\theta^9(a)&\\theta^{10}(a) \\\\\n",
        "\\vdots&\\vdots&\\vdots&\\vdots&\\vdots \\\\\n",
        "\\theta^{296}(a)&\\theta^{297}(a)&\\theta^{298}(a)&\\theta^{299}(a)&\\theta^{300}(a) \\\\\n",
        "\\end{bmatrix}$$"
      ]
    },
    {
      "cell_type": "markdown",
      "metadata": {
        "id": "8Q25RK4a4t8w"
      },
      "source": [
        "**Problem 3.c: Vectorization**\n",
        "\n",
        "$$J(\\theta) = \\frac{1}{m} \\sum^m_{i=0}=[-y^{(i)}\\log({h_{\\theta}(x^{(i)})})-(1-y^{(i)})\\log(1-h_{\\theta}(x^{(i)}))]\\\\_{\\text{Eq. 3.4}}$$\n",
        "\n",
        "The gradient vector:\n",
        "\n",
        "$$\\frac{∂J(\\theta)}{∂(\\theta)_0} = \\frac{1}{m} \\sum^m_{i=0} ({h_{\\theta}(x^{(i)}})-y^{(i)})x^{(i)}\n",
        "_{j}$$\n",
        "\n",
        "$$\\frac{∂J(\\theta)}{∂(\\theta)_j} = \\frac{1}{m} \\sum^m_{i=0} ({h_{\\theta}(x^{(i)}})-y^{(i)})x^{(i)}\n",
        "_{j}$$\n",
        "\n",
        "Vectorized form:\n",
        "\n",
        "$$ = \\frac{1}{m} X^T({h_{\\theta}(x)}-y)$$"
      ]
    },
    {
      "cell_type": "markdown",
      "metadata": {
        "id": "V9cEQN7cTAoc"
      },
      "source": [
        "**Problem 4.c: Computational Programming (Also Laboratory 2)**"
      ]
    }
  ]
}